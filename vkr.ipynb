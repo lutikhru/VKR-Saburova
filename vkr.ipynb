{
  "cells": [
    {
      "cell_type": "markdown",
      "metadata": {
        "id": "m95vbu1U0J1y"
      },
      "source": [
        "## Подготовка данных"
      ]
    },
    {
      "cell_type": "markdown",
      "metadata": {
        "id": "qhyK1GTzz-b0"
      },
      "source": [
        "Импорт библиотек"
      ]
    },
    {
      "cell_type": "code",
      "execution_count": 1,
      "metadata": {
        "id": "PTk7hpgPxgPT"
      },
      "outputs": [
        {
          "ename": "",
          "evalue": "",
          "output_type": "error",
          "traceback": [
            "\u001b[1;31mThe Kernel crashed while executing code in the current cell or a previous cell. \n",
            "\u001b[1;31mPlease review the code in the cell(s) to identify a possible cause of the failure. \n",
            "\u001b[1;31mClick <a href='https://aka.ms/vscodeJupyterKernelCrash'>here</a> for more info. \n",
            "\u001b[1;31mView Jupyter <a href='command:jupyter.viewOutput'>log</a> for further details."
          ]
        }
      ],
      "source": [
        "import pandas as pd\n",
        "import numpy as np\n",
        "import matplotlib as plt\n",
        "import seaborn as sns\n",
        "# import xgboost as xgb\n",
        "# from xgboost import XGBRegressor, plot_importance\n",
        "from sklearn.metrics import mean_squared_error, mean_absolute_error\n",
        "from sklearn.model_selection import GridSearchCV\n",
        "from sklearn.model_selection import train_test_split\n",
        "from keras import optimizers\n",
        "from keras.models import Sequential, Model\n",
        "from keras.layers import Conv1D, MaxPooling1D, Dense, LSTM, RepeatVector, TimeDistributed, Flatten\n",
        "from sklearn.metrics import r2_score"
      ]
    },
    {
      "cell_type": "markdown",
      "metadata": {
        "id": "tw7-8nm30BW5"
      },
      "source": []
    },
    {
      "cell_type": "markdown",
      "metadata": {
        "id": "no6d7n2KAu6f"
      },
      "source": [
        "Чтение входного файла"
      ]
    },
    {
      "cell_type": "code",
      "execution_count": null,
      "metadata": {
        "colab": {
          "base_uri": "https://localhost:8080/",
          "height": 617
        },
        "id": "YwZh4eDMzeAD",
        "outputId": "de69fc10-1271-445f-8e38-17ac2c307204"
      },
      "outputs": [],
      "source": [
        "df = pd.read_csv('powerconsumption.csv', sep = ',')\n",
        "\n",
        "df"
      ]
    },
    {
      "cell_type": "code",
      "execution_count": null,
      "metadata": {
        "id": "uwTi3jPFz7EK"
      },
      "outputs": [],
      "source": [
        "df.head()"
      ]
    },
    {
      "cell_type": "markdown",
      "metadata": {
        "id": "WhAr3T_a0E4p"
      },
      "source": [
        "## Визуализация данных"
      ]
    },
    {
      "cell_type": "markdown",
      "metadata": {
        "id": "K4rqwiJ77BmO"
      },
      "source": [
        "График визуализации связей между числовыми столбцами"
      ]
    },
    {
      "cell_type": "code",
      "execution_count": null,
      "metadata": {
        "id": "iDW9cOMG0I6U"
      },
      "outputs": [],
      "source": [
        "sns.pairplot(df[['Temperature', 'Humidity', 'WindSpeed', 'PowerConsumption_Zone1', 'PowerConsumption_Zone2', 'PowerConsumption_Zone3']])\n",
        "\n",
        "plt.show()"
      ]
    },
    {
      "cell_type": "markdown",
      "metadata": {
        "id": "hTBlqTgz8SAT"
      },
      "source": [
        "График временного ряда для энергопотребления"
      ]
    },
    {
      "cell_type": "code",
      "execution_count": null,
      "metadata": {
        "id": "oe700NWs-Okk"
      },
      "outputs": [],
      "source": [
        "plt.figure(figsize=(12, 6))\n",
        "sns.lineplot(x='Datetime', y='PowerConsumption_Zone1', data=df, label='Zone 1')\n",
        "plt.xlabel('Datetime')\n",
        "plt.ylabel('Power Consumption')\n",
        "plt.title('Power Consumption Over Time')\n",
        "plt.show()"
      ]
    },
    {
      "cell_type": "code",
      "execution_count": null,
      "metadata": {
        "id": "qskhSnFa-xbx"
      },
      "outputs": [],
      "source": [
        "plt.figure(figsize=(12, 6))\n",
        "sns.lineplot(x='Datetime', y='PowerConsumption_Zone2', data=df, label='Zone 2')\n",
        "plt.xlabel('Datetime')\n",
        "plt.ylabel('Power Consumption')\n",
        "plt.title('Power Consumption Over Time')\n",
        "plt.show()"
      ]
    },
    {
      "cell_type": "code",
      "execution_count": null,
      "metadata": {
        "id": "VMqTfqji-y5K"
      },
      "outputs": [],
      "source": [
        "plt.figure(figsize=(12, 6))\n",
        "sns.lineplot(x='Datetime', y='PowerConsumption_Zone3', data=df, label='Zone 3')\n",
        "plt.xlabel('Datetime')\n",
        "plt.ylabel('Power Consumption')\n",
        "plt.title('Power Consumption Over Time')\n",
        "plt.show()"
      ]
    },
    {
      "cell_type": "markdown",
      "metadata": {
        "id": "eEk_0UYr-2Cs"
      },
      "source": [
        "## Предварительная обработка данных"
      ]
    },
    {
      "cell_type": "markdown",
      "metadata": {
        "id": "UOQ2v15L_aLI"
      },
      "source": [
        "Проверка данных на сохранение хронологического порядка и на равные временные отрезки"
      ]
    },
    {
      "cell_type": "code",
      "execution_count": null,
      "metadata": {
        "colab": {
          "base_uri": "https://localhost:8080/"
        },
        "id": "eTKCdVJs-5Tr",
        "outputId": "08216b86-85a8-49b4-e4bf-0538bd85e9de"
      },
      "outputs": [],
      "source": [
        "df['Datetime']=pd.to_datetime(df.Datetime)\n",
        "df.sort_values(by='Datetime', ascending=True, inplace=True)\n",
        "\n",
        "chronological_order = df['Datetime'].is_monotonic_increasing\n",
        "\n",
        "time_diffs = df['Datetime'].diff()\n",
        "equidistant_timestamps = time_diffs.nunique() == 1\n",
        "\n",
        "chronological_order, equidistant_timestamps"
      ]
    },
    {
      "cell_type": "markdown",
      "metadata": {
        "id": "u0JTSKHX_0fD"
      },
      "source": [
        "Всё хорошо: Интервал времени 10 минут и данные расположены в хронологическом порядке."
      ]
    },
    {
      "cell_type": "markdown",
      "metadata": {
        "id": "tEi8Hh2zAJdr"
      },
      "source": [
        "Проверка наличия нулевых ячеек"
      ]
    },
    {
      "cell_type": "code",
      "execution_count": null,
      "metadata": {
        "colab": {
          "base_uri": "https://localhost:8080/"
        },
        "id": "tqUhOvlUAMAz",
        "outputId": "83b4b93d-4601-42da-94dd-050c23b16af5"
      },
      "outputs": [],
      "source": [
        "df.isna().sum()"
      ]
    },
    {
      "cell_type": "markdown",
      "metadata": {
        "id": "S2ZJ8BaEAPF4"
      },
      "source": [
        "## Разработка функций"
      ]
    },
    {
      "cell_type": "markdown",
      "metadata": {
        "id": "f__JPOeQAejX"
      },
      "source": [
        "Создание функций временных рядов на основании индексов временных рядов."
      ]
    },
    {
      "cell_type": "code",
      "execution_count": null,
      "metadata": {
        "id": "nN72lsLpARfz"
      },
      "outputs": [],
      "source": [
        "def create_features(df):\n",
        "    \"\"\"\n",
        "    Create time series features based on time series index.\n",
        "    \"\"\"\n",
        "    df = df.copy()\n",
        "    df['hour'] = df.index.hour\n",
        "    df['minute'] = df.index.minute\n",
        "    df['dayofweek'] = df.index.dayofweek\n",
        "    df['quarter'] = df.index.quarter\n",
        "    df['month'] = df.index.month\n",
        "    df['day'] = df.index.month\n",
        "    df['year'] = df.index.year\n",
        "    df['season'] = df['month'] % 12 // 3 + 1\n",
        "    df['dayofyear'] = df.index.dayofyear\n",
        "    df['dayofmonth'] = df.index.day\n",
        "    df['weekofyear'] = df.index.isocalendar().week\n",
        "\n",
        "    # Additional features\n",
        "    df['is_weekend'] = df['dayofweek'].isin([5, 6]).astype(int)\n",
        "    df['is_month_start'] = (df['dayofmonth'] == 1).astype(int)\n",
        "    df['is_month_end'] = (df['dayofmonth'] == df.index.days_in_month).astype(int)\n",
        "    df['is_quarter_start'] = (df['dayofmonth'] == 1) & (df['month'] % 3 == 1).astype(int)\n",
        "    df['is_quarter_end'] = (df['dayofmonth'] == df.groupby(['year', 'quarter'])['dayofmonth'].transform('max'))\n",
        "\n",
        "    # Additional features\n",
        "    df['is_working_day'] = df['dayofweek'].isin([0, 1, 2, 3, 4]).astype(int)\n",
        "    df['is_business_hours'] = df['hour'].between(9, 17).astype(int)\n",
        "    df['is_peak_hour'] = df['hour'].isin([8, 12, 18]).astype(int)\n",
        "\n",
        "    # Minute-level features\n",
        "    df['minute_of_day'] = df['hour'] * 60 + df['minute']\n",
        "    df['minute_of_week'] = (df['dayofweek'] * 24 * 60) + df['minute_of_day']\n",
        "\n",
        "    return df.astype(float)"
      ]
    },
    {
      "cell_type": "code",
      "execution_count": null,
      "metadata": {
        "id": "PHolLJrRAmd2"
      },
      "outputs": [],
      "source": [
        "df = df.set_index('Datetime')\n",
        "df = create_features(df)"
      ]
    },
    {
      "cell_type": "code",
      "execution_count": null,
      "metadata": {
        "colab": {
          "base_uri": "https://localhost:8080/",
          "height": 238
        },
        "id": "0Ppq29HmAm2e",
        "outputId": "d576a15b-931b-4cb6-c444-a30f58552412"
      },
      "outputs": [],
      "source": [
        "df[[ 'year', 'month', 'day','minute', 'dayofyear', 'weekofyear', 'quarter', 'season']].head()"
      ]
    },
    {
      "cell_type": "code",
      "execution_count": null,
      "metadata": {
        "colab": {
          "base_uri": "https://localhost:8080/",
          "height": 238
        },
        "id": "r-Ao7gtUV2v2",
        "outputId": "c9c7388c-72b2-4b6a-c3a2-eaa0e368f88a"
      },
      "outputs": [],
      "source": [
        "df[[ 'is_weekend', 'dayofweek', 'is_working_day']].head()"
      ]
    },
    {
      "cell_type": "markdown",
      "metadata": {
        "id": "lmv4GXmFCl47"
      },
      "source": [
        "## Исследовательский анализ данных"
      ]
    },
    {
      "cell_type": "markdown",
      "metadata": {
        "id": "1jPeEPIbDB_V"
      },
      "source": [
        "Посмотрим на матрицу корреляций"
      ]
    },
    {
      "cell_type": "code",
      "execution_count": null,
      "metadata": {
        "id": "G5RaBiK3ClF_"
      },
      "outputs": [],
      "source": [
        "correlation_matrix = df[['Temperature', 'Humidity', 'WindSpeed', 'PowerConsumption_Zone1', 'PowerConsumption_Zone2', 'PowerConsumption_Zone3']].corr()\n",
        "\n",
        "plt.figure(figsize=(10, 8))\n",
        "sns.heatmap(correlation_matrix, annot=True, cmap='coolwarm', fmt=\".2f\", linewidths=0.5)\n",
        "plt.title('Correlation Heatmap')\n",
        "plt.show()"
      ]
    },
    {
      "cell_type": "markdown",
      "metadata": {
        "id": "aO5t6Zx6DR1t"
      },
      "source": [
        "Повторная (ежедневная) выборка данных"
      ]
    },
    {
      "cell_type": "code",
      "execution_count": null,
      "metadata": {
        "colab": {
          "base_uri": "https://localhost:8080/",
          "height": 564
        },
        "id": "rzNipDe6DU1v",
        "outputId": "11a6c713-ccc1-4cb8-ee84-dc174b809f22"
      },
      "outputs": [],
      "source": [
        "daily_resampled = df.resample('D').mean()\n",
        "\n",
        "plt.figure(figsize=(12, 6))\n",
        "sns.lineplot(data=daily_resampled[['PowerConsumption_Zone1', 'PowerConsumption_Zone2', 'PowerConsumption_Zone3']])\n",
        "plt.xlabel('Date')\n",
        "plt.ylabel('Average Power Consumption')\n",
        "plt.title('Average Daily Power Consumption')\n",
        "plt.legend(labels=['Zone 1', 'Zone 2', 'Zone 3'])\n",
        "plt.show()"
      ]
    },
    {
      "cell_type": "markdown",
      "metadata": {
        "id": "-V6TEMWADYtL"
      },
      "source": [
        "## Моделирование"
      ]
    },
    {
      "cell_type": "code",
      "execution_count": null,
      "metadata": {
        "id": "ZuHvoFkJDavd"
      },
      "outputs": [],
      "source": [
        "from sklearn.preprocessing import StandardScaler\n",
        "\n",
        "# Разделение входных объектов (X) и целевых объектов (y)\n",
        "X = df.drop(['PowerConsumption_Zone1', 'PowerConsumption_Zone2', 'PowerConsumption_Zone3'], axis=1)\n",
        "y = df[['PowerConsumption_Zone1', 'PowerConsumption_Zone2', 'PowerConsumption_Zone3']]\n",
        "\n",
        "# Инициализировать StandardScaler для y\n",
        "\n",
        "\n",
        "\n",
        "\n",
        "scaler_y = StandardScaler()\n",
        "\n",
        "# Подгон и тронсформация  y\n",
        "y_scaled = scaler_y.fit_transform(y)"
      ]
    },
    {
      "cell_type": "code",
      "execution_count": null,
      "metadata": {
        "id": "S0v-oLHoD7aC"
      },
      "outputs": [],
      "source": [
        "X_train, X_test, y_train, y_test = train_test_split(X, y_scaled, test_size=0.25, shuffle=False)"
      ]
    },
    {
      "cell_type": "markdown",
      "metadata": {
        "id": "OrgkLvRJFjar"
      },
      "source": [
        "## Multilayer Perceptron модель"
      ]
    },
    {
      "cell_type": "code",
      "execution_count": null,
      "metadata": {
        "id": "Quj3BpTCFrEz"
      },
      "outputs": [],
      "source": [
        "epochs = 40\n",
        "batch = 256\n",
        "lr = 0.0003\n",
        "adam = optimizers.Adam(lr)"
      ]
    },
    {
      "cell_type": "code",
      "execution_count": null,
      "metadata": {
        "colab": {
          "base_uri": "https://localhost:8080/"
        },
        "id": "T_dSiUzAFqaA",
        "outputId": "c3ce4942-ef00-4f68-c6da-e9e1fe3d584c"
      },
      "outputs": [],
      "source": [
        "model_mlp = Sequential()\n",
        "model_mlp.add(Dense(100, activation='relu', input_dim=X_train.shape[1]))\n",
        "model_mlp.add(Dense(3))\n",
        "model_mlp.compile(loss='mse', optimizer=adam)\n",
        "model_mlp.summary()"
      ]
    },
    {
      "cell_type": "code",
      "execution_count": null,
      "metadata": {
        "colab": {
          "base_uri": "https://localhost:8080/"
        },
        "id": "p8M5zeQsFtTl",
        "outputId": "bfb881a0-0497-4d3d-acd7-17700f4219d5"
      },
      "outputs": [],
      "source": [
        "mlp_history = model_mlp.fit(X_train.values, y_train, validation_data=(X_test.values, y_test), epochs=epochs, verbose=2)"
      ]
    },
    {
      "cell_type": "code",
      "execution_count": null,
      "metadata": {
        "colab": {
          "base_uri": "https://localhost:8080/"
        },
        "id": "Qas4YacMFwSJ",
        "outputId": "50d4af50-fa65-46a6-9616-673fb5bd31e1"
      },
      "outputs": [],
      "source": [
        "train_predict = model_mlp.predict(X_train)\n",
        "test_predict = model_mlp.predict(X_test)\n",
        "\n",
        "# Подсчёт СКО и САО\n",
        "mse = mean_squared_error(y_test, test_predict)\n",
        "mae = mean_absolute_error(y_test, test_predict)\n",
        "\n",
        "# Вывод результатов\n",
        "print(\"Mean squared error on test set: {:.4f}\".format(mse))\n",
        "print(\"Mean absolute error on test set: {:.4f}\".format(mae))"
      ]
    },
    {
      "cell_type": "markdown",
      "metadata": {
        "id": "XjiMk0AxEBNU"
      },
      "source": [
        "## CNN модель"
      ]
    },
    {
      "cell_type": "code",
      "execution_count": null,
      "metadata": {
        "colab": {
          "base_uri": "https://localhost:8080/"
        },
        "id": "PE-iyh11EEIl",
        "outputId": "896bc3aa-a7fd-48b2-dd3e-699e3a7bef73"
      },
      "outputs": [],
      "source": [
        "X_train_series = X_train.values.reshape((X_train.shape[0], X_train.shape[1], 1))\n",
        "X_test_series = X_test.values.reshape((X_test.shape[0], X_test.shape[1], 1))\n",
        "print('Train set shape', X_train_series.shape)\n",
        "print('Validation set shape', X_test_series.shape)"
      ]
    },
    {
      "cell_type": "code",
      "execution_count": null,
      "metadata": {
        "colab": {
          "base_uri": "https://localhost:8080/"
        },
        "id": "dKYcD9l7EF5P",
        "outputId": "a8237cec-7479-486c-fcdb-7a9671c71811"
      },
      "outputs": [],
      "source": [
        "model_cnn = Sequential()\n",
        "model_cnn.add(Conv1D(filters=64, kernel_size=2, activation='relu', input_shape=(X_train_series.shape[1], X_train_series.shape[2])))\n",
        "model_cnn.add(MaxPooling1D(pool_size=2))\n",
        "model_cnn.add(Flatten())\n",
        "model_cnn.add(Dense(50, activation='relu'))\n",
        "model_cnn.add(Dense(3))\n",
        "model_cnn.compile(loss='mse', optimizer='adam')\n",
        "model_cnn.summary()"
      ]
    },
    {
      "cell_type": "code",
      "execution_count": null,
      "metadata": {
        "colab": {
          "base_uri": "https://localhost:8080/"
        },
        "id": "lRhGeGWiErT0",
        "outputId": "9a1f14db-4cc6-472e-90c7-de74c9e7b74a"
      },
      "outputs": [],
      "source": [
        "cnn_history = model_cnn.fit(X_train_series, y_train, validation_data=(X_test_series, y_test), epochs=epochs, verbose=2)"
      ]
    },
    {
      "cell_type": "code",
      "execution_count": null,
      "metadata": {
        "colab": {
          "base_uri": "https://localhost:8080/"
        },
        "id": "JVKFUTLbEtbd",
        "outputId": "8f0c635f-d95f-48bc-9856-43a8f5f9bc77"
      },
      "outputs": [],
      "source": [
        "train_predict = model_cnn.predict(X_train)\n",
        "test_predict = model_cnn.predict(X_test)\n",
        "\n",
        "\n",
        "# Подсчёт СКО и САО\n",
        "mse = mean_squared_error(y_test, test_predict)\n",
        "mae = mean_absolute_error(y_test, test_predict)\n",
        "\n",
        "# Вывод результатов\n",
        "print(\"Mean squared error on test set: {:.4f}\".format(mse))\n",
        "print(\"Mean absolute error on test set: {:.4f}\".format(mae))"
      ]
    },
    {
      "cell_type": "markdown",
      "metadata": {
        "id": "omiGBvljE4ua"
      },
      "source": [
        "## LSTM модель"
      ]
    },
    {
      "cell_type": "code",
      "execution_count": null,
      "metadata": {
        "colab": {
          "base_uri": "https://localhost:8080/"
        },
        "id": "8u3NpBsOEtVT",
        "outputId": "dd0d3e65-61de-48e6-9493-a4ca8f389241"
      },
      "outputs": [],
      "source": [
        "model_lstm = Sequential()\n",
        "model_lstm.add(LSTM(50, activation='relu', input_shape=(X_train_series.shape[1], X_train_series.shape[2])))\n",
        "model_lstm.add(Dense(3))\n",
        "model_lstm.compile(loss='mse', optimizer='adam')\n",
        "model_lstm.summary()"
      ]
    },
    {
      "cell_type": "code",
      "execution_count": null,
      "metadata": {
        "colab": {
          "base_uri": "https://localhost:8080/"
        },
        "id": "-xS2nQJVE99w",
        "outputId": "6ce78896-e513-47e5-b9d5-dfec22856069"
      },
      "outputs": [],
      "source": [
        "lstm_history = model_lstm.fit(X_train_series, y_train, validation_data=(X_test_series, y_test), epochs=epochs, verbose=2)"
      ]
    },
    {
      "cell_type": "code",
      "execution_count": null,
      "metadata": {
        "colab": {
          "base_uri": "https://localhost:8080/"
        },
        "id": "wUqwXIJUFAOX",
        "outputId": "400f5e03-f661-4920-d0c4-f5ba8d9c6484"
      },
      "outputs": [],
      "source": [
        "train_predict = model_lstm.predict(X_train)\n",
        "test_predict = model_lstm.predict(X_test)\n",
        "\n",
        "\n",
        "# Подсчёт СКО и САО\n",
        "mse = mean_squared_error(y_test, test_predict)\n",
        "mae = mean_absolute_error(y_test, test_predict)\n",
        "\n",
        "# Вывод результатов\n",
        "print(\"Mean squared error on test set: {:.4f}\".format(mse))\n",
        "print(\"Mean absolute error on test set: {:.4f}\".format(mae))"
      ]
    },
    {
      "cell_type": "markdown",
      "metadata": {
        "id": "WxecuAAeFDzy"
      },
      "source": [
        "## Xgboost модель"
      ]
    },
    {
      "cell_type": "code",
      "execution_count": null,
      "metadata": {
        "colab": {
          "base_uri": "https://localhost:8080/",
          "height": 1000
        },
        "id": "XbaGkFtsFHWH",
        "outputId": "b7020375-e5fd-48ec-8029-cc56e5215f5a"
      },
      "outputs": [],
      "source": [
        "# Define the hyperparameter grid for XGBoost\n",
        "param_grid = {\n",
        "    'objective':['reg:squarederror'],\n",
        "    'max_depth': [2, 5, 7],\n",
        "    'learning_rate': [0.1, 0.01, 0.001],\n",
        "    'subsample': [0.5, 0.7],\n",
        "    'n_estimators': [1000,1500,2000],\n",
        "    'min_child_weight': [1, 2],\n",
        "    'booster':['gbtree']\n",
        "}\n",
        "\n",
        "# Create the XGBoost model object\n",
        "xgb_model = xgb.XGBRegressor(tree_method='hist', device = 'cuda')\n",
        "\n",
        "\n",
        "# Create the GridSearchCV\n",
        "grid_search = GridSearchCV(xgb_model, param_grid, cv=7, scoring='neg_mean_squared_error')\n",
        "\n",
        "# Fit the GridSearchCV object to the training data\n",
        "grid_search.fit(X_train, y_train)\n",
        "\n",
        "# Print the best set of hyperparameters and the corresponding score\n",
        "print(\"Best set of hyperparameters: \", grid_search.best_params_)\n",
        "print(\"Best score: \", grid_search.best_score_)\n",
        "\n",
        "# Evaluate the model on the test set\n",
        "y_pred = grid_search.best_estimator_.predict(X_test)\n",
        "mse = mean_squared_error(y_test, y_pred)\n",
        "mae = mean_absolute_error(y_test, y_pred)\n",
        "print(\"Mean squared error on test set: \", mse)\n",
        "print(\"Mean absolute error on test set: \", mae)"
      ]
    },
    {
      "cell_type": "code",
      "execution_count": null,
      "metadata": {
        "id": "EjwV4fekFLAs"
      },
      "outputs": [],
      "source": [
        "model =  grid_search.best_estimator_"
      ]
    },
    {
      "cell_type": "code",
      "execution_count": null,
      "metadata": {
        "id": "eM9TZCekFMAa"
      },
      "outputs": [],
      "source": [
        "xgboost_history = model.fit(X_train, y_train,\n",
        "        eval_set=[(X_train, y_train), (X_test, y_test)],\n",
        "       verbose=200)"
      ]
    },
    {
      "cell_type": "markdown",
      "metadata": {
        "id": "sVvDIaqYFPl_"
      },
      "source": [
        "Попытка предсказания с помощью модели"
      ]
    },
    {
      "cell_type": "code",
      "execution_count": null,
      "metadata": {
        "id": "Gl7u7YORFNT_"
      },
      "outputs": [],
      "source": [
        "train_predict = model.predict(X_train)\n",
        "test_predict = model.predict(X_test)\n",
        "\n",
        "\n",
        "mse = mean_squared_error(y_test, test_predict)\n",
        "mae = mean_absolute_error(y_test, test_predict)\n",
        "print(\"Mean squared error on test set: \", mse)\n",
        "print(\"Mean absolute error on test set: \", mae)"
      ]
    },
    {
      "cell_type": "markdown",
      "metadata": {},
      "source": [
        "Важность характеристик"
      ]
    },
    {
      "cell_type": "code",
      "execution_count": null,
      "metadata": {
        "id": "Jzn06TAzFSza"
      },
      "outputs": [],
      "source": [
        "_ = plot_importance(model, height=0.9)"
      ]
    },
    {
      "cell_type": "markdown",
      "metadata": {
        "id": "XMk2jH2wFdx9"
      },
      "source": [
        "## Сравнение моделей"
      ]
    },
    {
      "cell_type": "code",
      "execution_count": null,
      "metadata": {
        "id": "V5SMgBJIF07o"
      },
      "outputs": [],
      "source": [
        "fig, axes = plt.subplots(2, 2, sharex=True, sharey=True,figsize=(22,12))\n",
        "ax1, ax2 = axes[0]\n",
        "ax3, ax4 = axes[1]\n",
        "\n",
        "ax1.plot(mlp_history.history['loss'], label='Train loss')\n",
        "ax1.plot(mlp_history.history['val_loss'], label='Validation loss')\n",
        "ax1.legend(loc='best')\n",
        "ax1.set_title('MLP')\n",
        "ax1.set_xlabel('Epochs')\n",
        "ax1.set_ylabel('MSE')\n",
        "\n",
        "ax2.plot(cnn_history.history['loss'], label='Train loss')\n",
        "ax2.plot(cnn_history.history['val_loss'], label='Validation loss')\n",
        "ax2.legend(loc='best')\n",
        "ax2.set_title('CNN')\n",
        "ax2.set_xlabel('Epochs')\n",
        "ax2.set_ylabel('MSE')\n",
        "\n",
        "ax3.plot(lstm_history.history['loss'], label='Train loss')\n",
        "ax3.plot(lstm_history.history['val_loss'], label='Validation loss')\n",
        "ax3.legend(loc='best')\n",
        "ax3.set_title('LSTM')\n",
        "ax3.set_xlabel('Epochs')\n",
        "ax3.set_ylabel('MSE')\n",
        "\n",
        "plt.show()"
      ]
    },
    {
      "cell_type": "code",
      "execution_count": null,
      "metadata": {
        "id": "po3ptnT5F64g"
      },
      "outputs": [],
      "source": []
    }
  ],
  "metadata": {
    "colab": {
      "provenance": []
    },
    "kernelspec": {
      "display_name": "Python 3",
      "name": "python3"
    },
    "language_info": {
      "codemirror_mode": {
        "name": "ipython",
        "version": 3
      },
      "file_extension": ".py",
      "mimetype": "text/x-python",
      "name": "python",
      "nbconvert_exporter": "python",
      "pygments_lexer": "ipython3",
      "version": "3.10.12"
    }
  },
  "nbformat": 4,
  "nbformat_minor": 0
}
